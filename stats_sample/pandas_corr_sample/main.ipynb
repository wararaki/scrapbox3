{
 "metadata": {
  "language_info": {
   "codemirror_mode": {
    "name": "ipython",
    "version": 3
   },
   "file_extension": ".py",
   "mimetype": "text/x-python",
   "name": "python",
   "nbconvert_exporter": "python",
   "pygments_lexer": "ipython3",
   "version": "3.8.5"
  },
  "orig_nbformat": 2,
  "kernelspec": {
   "name": "python385jvsc74a57bd0e47664dab37355857d58ec29513492f53a294cb5e9a32075fd110bf6e862dd2a",
   "display_name": "Python 3.8.5 64-bit"
  }
 },
 "nbformat": 4,
 "nbformat_minor": 2,
 "cells": [
  {
   "cell_type": "code",
   "execution_count": 1,
   "metadata": {},
   "outputs": [],
   "source": [
    "import pandas as pd"
   ]
  },
  {
   "cell_type": "code",
   "execution_count": 2,
   "metadata": {},
   "outputs": [
    {
     "output_type": "execute_result",
     "data": {
      "text/plain": [
       "(800, 13)"
      ]
     },
     "metadata": {},
     "execution_count": 2
    }
   ],
   "source": [
    "df = pd.read_csv(\".data/Pokemon.csv\")\n",
    "df.shape"
   ]
  },
  {
   "cell_type": "code",
   "execution_count": 3,
   "metadata": {},
   "outputs": [],
   "source": [
    "df.drop(['#', 'Total', 'Type 1', 'Type 2', 'Generation', 'Legendary'], axis=1, inplace=True)\n",
    "df.set_index('Name', inplace=True)"
   ]
  },
  {
   "cell_type": "code",
   "execution_count": 4,
   "metadata": {},
   "outputs": [
    {
     "output_type": "execute_result",
     "data": {
      "text/plain": [
       "                       HP  Attack  Defense  Sp. Atk  Sp. Def  Speed\n",
       "Name                                                               \n",
       "Bulbasaur              45      49       49       65       65     45\n",
       "Ivysaur                60      62       63       80       80     60\n",
       "Venusaur               80      82       83      100      100     80\n",
       "VenusaurMega Venusaur  80     100      123      122      120     80\n",
       "Charmander             39      52       43       60       50     65\n",
       "...                    ..     ...      ...      ...      ...    ...\n",
       "Diancie                50     100      150      100      150     50\n",
       "DiancieMega Diancie    50     160      110      160      110    110\n",
       "HoopaHoopa Confined    80     110       60      150      130     70\n",
       "HoopaHoopa Unbound     80     160       60      170      130     80\n",
       "Volcanion              80     110      120      130       90     70\n",
       "\n",
       "[800 rows x 6 columns]"
      ],
      "text/html": "<div>\n<style scoped>\n    .dataframe tbody tr th:only-of-type {\n        vertical-align: middle;\n    }\n\n    .dataframe tbody tr th {\n        vertical-align: top;\n    }\n\n    .dataframe thead th {\n        text-align: right;\n    }\n</style>\n<table border=\"1\" class=\"dataframe\">\n  <thead>\n    <tr style=\"text-align: right;\">\n      <th></th>\n      <th>HP</th>\n      <th>Attack</th>\n      <th>Defense</th>\n      <th>Sp. Atk</th>\n      <th>Sp. Def</th>\n      <th>Speed</th>\n    </tr>\n    <tr>\n      <th>Name</th>\n      <th></th>\n      <th></th>\n      <th></th>\n      <th></th>\n      <th></th>\n      <th></th>\n    </tr>\n  </thead>\n  <tbody>\n    <tr>\n      <th>Bulbasaur</th>\n      <td>45</td>\n      <td>49</td>\n      <td>49</td>\n      <td>65</td>\n      <td>65</td>\n      <td>45</td>\n    </tr>\n    <tr>\n      <th>Ivysaur</th>\n      <td>60</td>\n      <td>62</td>\n      <td>63</td>\n      <td>80</td>\n      <td>80</td>\n      <td>60</td>\n    </tr>\n    <tr>\n      <th>Venusaur</th>\n      <td>80</td>\n      <td>82</td>\n      <td>83</td>\n      <td>100</td>\n      <td>100</td>\n      <td>80</td>\n    </tr>\n    <tr>\n      <th>VenusaurMega Venusaur</th>\n      <td>80</td>\n      <td>100</td>\n      <td>123</td>\n      <td>122</td>\n      <td>120</td>\n      <td>80</td>\n    </tr>\n    <tr>\n      <th>Charmander</th>\n      <td>39</td>\n      <td>52</td>\n      <td>43</td>\n      <td>60</td>\n      <td>50</td>\n      <td>65</td>\n    </tr>\n    <tr>\n      <th>...</th>\n      <td>...</td>\n      <td>...</td>\n      <td>...</td>\n      <td>...</td>\n      <td>...</td>\n      <td>...</td>\n    </tr>\n    <tr>\n      <th>Diancie</th>\n      <td>50</td>\n      <td>100</td>\n      <td>150</td>\n      <td>100</td>\n      <td>150</td>\n      <td>50</td>\n    </tr>\n    <tr>\n      <th>DiancieMega Diancie</th>\n      <td>50</td>\n      <td>160</td>\n      <td>110</td>\n      <td>160</td>\n      <td>110</td>\n      <td>110</td>\n    </tr>\n    <tr>\n      <th>HoopaHoopa Confined</th>\n      <td>80</td>\n      <td>110</td>\n      <td>60</td>\n      <td>150</td>\n      <td>130</td>\n      <td>70</td>\n    </tr>\n    <tr>\n      <th>HoopaHoopa Unbound</th>\n      <td>80</td>\n      <td>160</td>\n      <td>60</td>\n      <td>170</td>\n      <td>130</td>\n      <td>80</td>\n    </tr>\n    <tr>\n      <th>Volcanion</th>\n      <td>80</td>\n      <td>110</td>\n      <td>120</td>\n      <td>130</td>\n      <td>90</td>\n      <td>70</td>\n    </tr>\n  </tbody>\n</table>\n<p>800 rows × 6 columns</p>\n</div>"
     },
     "metadata": {},
     "execution_count": 4
    }
   ],
   "source": [
    "df"
   ]
  },
  {
   "cell_type": "code",
   "execution_count": 8,
   "metadata": {},
   "outputs": [
    {
     "output_type": "execute_result",
     "data": {
      "text/plain": [
       "               HP    Attack   Defense   Sp. Atk   Sp. Def     Speed\n",
       "HP       1.000000  0.422386  0.239622  0.362380  0.378718  0.175952\n",
       "Attack   0.422386  1.000000  0.438687  0.396362  0.263990  0.381240\n",
       "Defense  0.239622  0.438687  1.000000  0.223549  0.510747  0.015227\n",
       "Sp. Atk  0.362380  0.396362  0.223549  1.000000  0.506121  0.473018\n",
       "Sp. Def  0.378718  0.263990  0.510747  0.506121  1.000000  0.259133\n",
       "Speed    0.175952  0.381240  0.015227  0.473018  0.259133  1.000000"
      ],
      "text/html": "<div>\n<style scoped>\n    .dataframe tbody tr th:only-of-type {\n        vertical-align: middle;\n    }\n\n    .dataframe tbody tr th {\n        vertical-align: top;\n    }\n\n    .dataframe thead th {\n        text-align: right;\n    }\n</style>\n<table border=\"1\" class=\"dataframe\">\n  <thead>\n    <tr style=\"text-align: right;\">\n      <th></th>\n      <th>HP</th>\n      <th>Attack</th>\n      <th>Defense</th>\n      <th>Sp. Atk</th>\n      <th>Sp. Def</th>\n      <th>Speed</th>\n    </tr>\n  </thead>\n  <tbody>\n    <tr>\n      <th>HP</th>\n      <td>1.000000</td>\n      <td>0.422386</td>\n      <td>0.239622</td>\n      <td>0.362380</td>\n      <td>0.378718</td>\n      <td>0.175952</td>\n    </tr>\n    <tr>\n      <th>Attack</th>\n      <td>0.422386</td>\n      <td>1.000000</td>\n      <td>0.438687</td>\n      <td>0.396362</td>\n      <td>0.263990</td>\n      <td>0.381240</td>\n    </tr>\n    <tr>\n      <th>Defense</th>\n      <td>0.239622</td>\n      <td>0.438687</td>\n      <td>1.000000</td>\n      <td>0.223549</td>\n      <td>0.510747</td>\n      <td>0.015227</td>\n    </tr>\n    <tr>\n      <th>Sp. Atk</th>\n      <td>0.362380</td>\n      <td>0.396362</td>\n      <td>0.223549</td>\n      <td>1.000000</td>\n      <td>0.506121</td>\n      <td>0.473018</td>\n    </tr>\n    <tr>\n      <th>Sp. Def</th>\n      <td>0.378718</td>\n      <td>0.263990</td>\n      <td>0.510747</td>\n      <td>0.506121</td>\n      <td>1.000000</td>\n      <td>0.259133</td>\n    </tr>\n    <tr>\n      <th>Speed</th>\n      <td>0.175952</td>\n      <td>0.381240</td>\n      <td>0.015227</td>\n      <td>0.473018</td>\n      <td>0.259133</td>\n      <td>1.000000</td>\n    </tr>\n  </tbody>\n</table>\n</div>"
     },
     "metadata": {},
     "execution_count": 8
    }
   ],
   "source": [
    "df.corr(method=\"pearson\")"
   ]
  },
  {
   "cell_type": "code",
   "execution_count": 7,
   "metadata": {},
   "outputs": [
    {
     "output_type": "execute_result",
     "data": {
      "text/plain": [
       "               HP    Attack   Defense   Sp. Atk   Sp. Def     Speed\n",
       "HP       1.000000  0.565734  0.433402  0.470813  0.493280  0.265920\n",
       "Attack   0.565734  1.000000  0.514995  0.361616  0.320620  0.373443\n",
       "Defense  0.433402  0.514995  1.000000  0.314217  0.578816  0.092818\n",
       "Sp. Atk  0.470813  0.361616  0.314217  1.000000  0.571757  0.460220\n",
       "Sp. Def  0.493280  0.320620  0.578816  0.571757  1.000000  0.320649\n",
       "Speed    0.265920  0.373443  0.092818  0.460220  0.320649  1.000000"
      ],
      "text/html": "<div>\n<style scoped>\n    .dataframe tbody tr th:only-of-type {\n        vertical-align: middle;\n    }\n\n    .dataframe tbody tr th {\n        vertical-align: top;\n    }\n\n    .dataframe thead th {\n        text-align: right;\n    }\n</style>\n<table border=\"1\" class=\"dataframe\">\n  <thead>\n    <tr style=\"text-align: right;\">\n      <th></th>\n      <th>HP</th>\n      <th>Attack</th>\n      <th>Defense</th>\n      <th>Sp. Atk</th>\n      <th>Sp. Def</th>\n      <th>Speed</th>\n    </tr>\n  </thead>\n  <tbody>\n    <tr>\n      <th>HP</th>\n      <td>1.000000</td>\n      <td>0.565734</td>\n      <td>0.433402</td>\n      <td>0.470813</td>\n      <td>0.493280</td>\n      <td>0.265920</td>\n    </tr>\n    <tr>\n      <th>Attack</th>\n      <td>0.565734</td>\n      <td>1.000000</td>\n      <td>0.514995</td>\n      <td>0.361616</td>\n      <td>0.320620</td>\n      <td>0.373443</td>\n    </tr>\n    <tr>\n      <th>Defense</th>\n      <td>0.433402</td>\n      <td>0.514995</td>\n      <td>1.000000</td>\n      <td>0.314217</td>\n      <td>0.578816</td>\n      <td>0.092818</td>\n    </tr>\n    <tr>\n      <th>Sp. Atk</th>\n      <td>0.470813</td>\n      <td>0.361616</td>\n      <td>0.314217</td>\n      <td>1.000000</td>\n      <td>0.571757</td>\n      <td>0.460220</td>\n    </tr>\n    <tr>\n      <th>Sp. Def</th>\n      <td>0.493280</td>\n      <td>0.320620</td>\n      <td>0.578816</td>\n      <td>0.571757</td>\n      <td>1.000000</td>\n      <td>0.320649</td>\n    </tr>\n    <tr>\n      <th>Speed</th>\n      <td>0.265920</td>\n      <td>0.373443</td>\n      <td>0.092818</td>\n      <td>0.460220</td>\n      <td>0.320649</td>\n      <td>1.000000</td>\n    </tr>\n  </tbody>\n</table>\n</div>"
     },
     "metadata": {},
     "execution_count": 7
    }
   ],
   "source": [
    "df.corr(method=\"spearman\")"
   ]
  },
  {
   "cell_type": "code",
   "execution_count": 11,
   "metadata": {},
   "outputs": [
    {
     "output_type": "execute_result",
     "data": {
      "text/plain": [
       "               HP    Attack   Defense   Sp. Atk   Sp. Def     Speed\n",
       "HP       1.000000  0.413993  0.324233  0.338039  0.357735  0.180047\n",
       "Attack   0.413993  1.000000  0.369529  0.258397  0.223371  0.259124\n",
       "Defense  0.324233  0.369529  1.000000  0.220791  0.451869  0.063026\n",
       "Sp. Atk  0.338039  0.258397  0.220791  1.000000  0.422981  0.329196\n",
       "Sp. Def  0.357735  0.223371  0.451869  0.422981  1.000000  0.222677\n",
       "Speed    0.180047  0.259124  0.063026  0.329196  0.222677  1.000000"
      ],
      "text/html": "<div>\n<style scoped>\n    .dataframe tbody tr th:only-of-type {\n        vertical-align: middle;\n    }\n\n    .dataframe tbody tr th {\n        vertical-align: top;\n    }\n\n    .dataframe thead th {\n        text-align: right;\n    }\n</style>\n<table border=\"1\" class=\"dataframe\">\n  <thead>\n    <tr style=\"text-align: right;\">\n      <th></th>\n      <th>HP</th>\n      <th>Attack</th>\n      <th>Defense</th>\n      <th>Sp. Atk</th>\n      <th>Sp. Def</th>\n      <th>Speed</th>\n    </tr>\n  </thead>\n  <tbody>\n    <tr>\n      <th>HP</th>\n      <td>1.000000</td>\n      <td>0.413993</td>\n      <td>0.324233</td>\n      <td>0.338039</td>\n      <td>0.357735</td>\n      <td>0.180047</td>\n    </tr>\n    <tr>\n      <th>Attack</th>\n      <td>0.413993</td>\n      <td>1.000000</td>\n      <td>0.369529</td>\n      <td>0.258397</td>\n      <td>0.223371</td>\n      <td>0.259124</td>\n    </tr>\n    <tr>\n      <th>Defense</th>\n      <td>0.324233</td>\n      <td>0.369529</td>\n      <td>1.000000</td>\n      <td>0.220791</td>\n      <td>0.451869</td>\n      <td>0.063026</td>\n    </tr>\n    <tr>\n      <th>Sp. Atk</th>\n      <td>0.338039</td>\n      <td>0.258397</td>\n      <td>0.220791</td>\n      <td>1.000000</td>\n      <td>0.422981</td>\n      <td>0.329196</td>\n    </tr>\n    <tr>\n      <th>Sp. Def</th>\n      <td>0.357735</td>\n      <td>0.223371</td>\n      <td>0.451869</td>\n      <td>0.422981</td>\n      <td>1.000000</td>\n      <td>0.222677</td>\n    </tr>\n    <tr>\n      <th>Speed</th>\n      <td>0.180047</td>\n      <td>0.259124</td>\n      <td>0.063026</td>\n      <td>0.329196</td>\n      <td>0.222677</td>\n      <td>1.000000</td>\n    </tr>\n  </tbody>\n</table>\n</div>"
     },
     "metadata": {},
     "execution_count": 11
    }
   ],
   "source": [
    "df.corr(method=\"kendall\")"
   ]
  },
  {
   "cell_type": "code",
   "execution_count": 12,
   "metadata": {},
   "outputs": [
    {
     "output_type": "execute_result",
     "data": {
      "text/plain": [
       "              HP    Attack\n",
       "HP      1.000000  0.422386\n",
       "Attack  0.422386  1.000000"
      ],
      "text/html": "<div>\n<style scoped>\n    .dataframe tbody tr th:only-of-type {\n        vertical-align: middle;\n    }\n\n    .dataframe tbody tr th {\n        vertical-align: top;\n    }\n\n    .dataframe thead th {\n        text-align: right;\n    }\n</style>\n<table border=\"1\" class=\"dataframe\">\n  <thead>\n    <tr style=\"text-align: right;\">\n      <th></th>\n      <th>HP</th>\n      <th>Attack</th>\n    </tr>\n  </thead>\n  <tbody>\n    <tr>\n      <th>HP</th>\n      <td>1.000000</td>\n      <td>0.422386</td>\n    </tr>\n    <tr>\n      <th>Attack</th>\n      <td>0.422386</td>\n      <td>1.000000</td>\n    </tr>\n  </tbody>\n</table>\n</div>"
     },
     "metadata": {},
     "execution_count": 12
    }
   ],
   "source": [
    "df[[\"HP\", \"Attack\"]].corr()"
   ]
  },
  {
   "cell_type": "code",
   "execution_count": null,
   "metadata": {},
   "outputs": [],
   "source": []
  }
 ]
}