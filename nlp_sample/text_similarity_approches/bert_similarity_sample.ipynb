{
 "metadata": {
  "language_info": {
   "codemirror_mode": {
    "name": "ipython",
    "version": 3
   },
   "file_extension": ".py",
   "mimetype": "text/x-python",
   "name": "python",
   "nbconvert_exporter": "python",
   "pygments_lexer": "ipython3",
   "version": "3.8.5"
  },
  "orig_nbformat": 2,
  "kernelspec": {
   "name": "python385jvsc74a57bd0e47664dab37355857d58ec29513492f53a294cb5e9a32075fd110bf6e862dd2a",
   "display_name": "Python 3.8.5 64-bit"
  }
 },
 "nbformat": 4,
 "nbformat_minor": 2,
 "cells": [
  {
   "cell_type": "code",
   "execution_count": 2,
   "metadata": {},
   "outputs": [],
   "source": [
    "from glob import glob\n",
    "from typing import List, Tuple\n",
    "\n",
    "from transformers import BertJapaneseTokenizer, BertModel"
   ]
  },
  {
   "cell_type": "code",
   "execution_count": 1,
   "metadata": {},
   "outputs": [],
   "source": [
    "pre_train_path = 'cl-tohoku/bert-base-japanese-whole-word-masking'"
   ]
  },
  {
   "cell_type": "code",
   "execution_count": 3,
   "metadata": {},
   "outputs": [],
   "source": [
    "tokenizer = BertJapaneseTokenizer.from_pretrained(pre_train_path)\n",
    "model = BertModel.from_pretrained(pre_train_path)"
   ]
  },
  {
   "cell_type": "code",
   "execution_count": 31,
   "metadata": {},
   "outputs": [],
   "source": [
    "def load_texts(paths: List[str]) -> List[str]:\n",
    "    texts = []\n",
    "    for p in paths:\n",
    "        with open(p, 'rt') as f:\n",
    "            text = f.read()\n",
    "            if text.find('\\n') != -1:\n",
    "                text = text[text.find('\\n'):]\n",
    "            if text.find('\\n') != -1:\n",
    "                text = text[text.find('\\n'):]\n",
    "            texts.append(text)\n",
    "    return texts"
   ]
  },
  {
   "cell_type": "code",
   "execution_count": 32,
   "metadata": {},
   "outputs": [],
   "source": [
    "it_paths = glob('text/it-life-hack/*.txt')\n",
    "it_texts = load_texts(it_paths)"
   ]
  },
  {
   "cell_type": "code",
   "execution_count": 33,
   "metadata": {},
   "outputs": [],
   "source": [
    "kaden_paths = glob('text/kaden-channel/*.txt')\n",
    "kaden_texts = load_texts(kaden_paths)"
   ]
  },
  {
   "cell_type": "code",
   "execution_count": 34,
   "metadata": {},
   "outputs": [],
   "source": [
    "dokujo_paths = glob('text/dokujo-tsushin/*.txt')\n",
    "dokujo_texts = load_texts(dokujo_paths)"
   ]
  },
  {
   "cell_type": "code",
   "execution_count": 35,
   "metadata": {},
   "outputs": [],
   "source": [
    "import numpy as np\n",
    "from sklearn.metrics.pairwise import cosine_similarity"
   ]
  },
  {
   "cell_type": "code",
   "execution_count": 70,
   "metadata": {},
   "outputs": [],
   "source": [
    "def vectorize(text: str) -> np.ndarray:\n",
    "    inputs = tokenizer(text, return_tensors='pt', padding=True)\n",
    "    for key in inputs.keys():\n",
    "        inputs[key] = inputs[key][:, :512]\n",
    "    outputs = model(**inputs)\n",
    "    output = outputs.last_hidden_state\n",
    "    sentence_vector = output[0].mean(axis=0).detach().numpy().reshape(1, -1)\n",
    "    return sentence_vector"
   ]
  },
  {
   "cell_type": "code",
   "execution_count": 73,
   "metadata": {},
   "outputs": [
    {
     "output_type": "execute_result",
     "data": {
      "text/plain": [
       "0.94478273"
      ]
     },
     "metadata": {},
     "execution_count": 73
    }
   ],
   "source": [
    "cosine_similarity(vectorize(it_texts[0]), vectorize(it_texts[1]))[0][0]"
   ]
  },
  {
   "cell_type": "code",
   "execution_count": 74,
   "metadata": {},
   "outputs": [
    {
     "output_type": "execute_result",
     "data": {
      "text/plain": [
       "0.9339549"
      ]
     },
     "metadata": {},
     "execution_count": 74
    }
   ],
   "source": [
    "cosine_similarity(vectorize(it_texts[0]), vectorize(kaden_texts[0]))[0][0]"
   ]
  },
  {
   "cell_type": "code",
   "execution_count": 75,
   "metadata": {},
   "outputs": [
    {
     "output_type": "execute_result",
     "data": {
      "text/plain": [
       "0.9248747"
      ]
     },
     "metadata": {},
     "execution_count": 75
    }
   ],
   "source": [
    "cosine_similarity(vectorize(it_texts[0]), vectorize(dokujo_texts[0]))[0][0]"
   ]
  },
  {
   "cell_type": "code",
   "execution_count": null,
   "metadata": {},
   "outputs": [],
   "source": []
  }
 ]
}