{
 "metadata": {
  "language_info": {
   "codemirror_mode": {
    "name": "ipython",
    "version": 3
   },
   "file_extension": ".py",
   "mimetype": "text/x-python",
   "name": "python",
   "nbconvert_exporter": "python",
   "pygments_lexer": "ipython3",
   "version": "3.8.5"
  },
  "orig_nbformat": 2,
  "kernelspec": {
   "name": "python385jvsc74a57bd0e47664dab37355857d58ec29513492f53a294cb5e9a32075fd110bf6e862dd2a",
   "display_name": "Python 3.8.5 64-bit"
  }
 },
 "nbformat": 4,
 "nbformat_minor": 2,
 "cells": [
  {
   "cell_type": "code",
   "execution_count": 1,
   "metadata": {},
   "outputs": [],
   "source": [
    "import itertools\n",
    "\n",
    "from nltk.lm import Vocabulary\n",
    "from nltk.lm.models import MLE\n",
    "from nltk.util import ngrams"
   ]
  },
  {
   "cell_type": "code",
   "execution_count": 2,
   "metadata": {},
   "outputs": [],
   "source": [
    "N = 3\n",
    "filepath = \"text/peachy/peachy-4304732.txt\""
   ]
  },
  {
   "cell_type": "code",
   "execution_count": 3,
   "metadata": {},
   "outputs": [],
   "source": [
    "sentences = []\n",
    "with open(filepath, \"r\") as f:\n",
    "    for line in f.readlines()[2:]:\n",
    "        s = line.strip()\n",
    "        if len(s) == 0:\n",
    "            continue\n",
    "        sentences.append(s)"
   ]
  },
  {
   "cell_type": "code",
   "execution_count": 4,
   "metadata": {},
   "outputs": [
    {
     "output_type": "stream",
     "name": "stdout",
     "text": [
      "女性を潤す新たな注目ワードは“アミノ酸”\n8月も残すところ10日余り。秋のはじまりと共に気になってくるのがお肌の乾燥ケアだ。潤いとハリのある肌の為にヒアルロン酸とコラーゲンに着目した「ベキュア スキンパーフェクトスフィア」シリーズに、「アミノ酸」に着目したニューアイテムが登場した。\n皮膚成分のほとんどはアミノ酸によって占められており、素肌は良質なアミノ酸を常に求めている。今回新シリーズは、アルギニン、保湿作用のあるグルタミン酸、角質を形成するセリン、ハリ感をサポートするプロリンをカプセルに内包し、肌に速攻アプローチ。\n特に、ベキュア初となるバームタイプのメイク落としは、毛穴の奥の汚れまですっきり落としつつ、マッサージもできるという1品2役の楽ちんコスメ。マッサージだけだと続けるのは難しいが、毎日行うクレンジングと共に肌に溜まった汚れの排出を促し、すっきりとした輪郭とワントーン明るい肌を手に入れることができる。\nまた、十分な睡眠時間がとれず、肌本来の再生能力が不足している現代女性の為に睡眠中の肌潤い生理に注目したナイトクリームも登場。眠っている間に潤いとハリ感を与え、朝目覚めた時には艶めく素肌が手に入る。\n今年の秋の乾燥ケアにはアミノ酸。忙しい日々で失いがちな潤いを、手軽に補充し、艶肌を手に入れよう。アミノアクトクレンジングバーム、アミノアクトクレンジングフォーム、アミノエフェクティブスリープは8月20日より販売開始。\n・ベキュア オンラインショップ\n"
     ]
    }
   ],
   "source": [
    "print(\"\\n\".join(sentences))"
   ]
  },
  {
   "cell_type": "code",
   "execution_count": 5,
   "metadata": {},
   "outputs": [],
   "source": [
    "vocabulary = Vocabulary(itertools.chain.from_iterable(sentences))\n",
    "char_ngram = [ngrams(sentence, N) for sentence in sentences]"
   ]
  },
  {
   "cell_type": "code",
   "execution_count": 6,
   "metadata": {},
   "outputs": [
    {
     "output_type": "execute_result",
     "data": {
      "text/plain": [
       "[('女', '性', 'を'), ('性', 'を', '潤'), ('を', '潤', 'す')]"
      ]
     },
     "metadata": {},
     "execution_count": 6
    }
   ],
   "source": [
    "list(ngrams(sentences[0], N))[:3]"
   ]
  },
  {
   "cell_type": "code",
   "execution_count": 7,
   "metadata": {},
   "outputs": [],
   "source": [
    "lm = MLE(order=N, vocabulary=vocabulary)\n",
    "lm.fit(char_ngram)"
   ]
  },
  {
   "cell_type": "code",
   "execution_count": 8,
   "metadata": {},
   "outputs": [
    {
     "output_type": "stream",
     "name": "stdout",
     "text": [
      "時: 0.5\n中: 0.5\n"
     ]
    }
   ],
   "source": [
    "context = (\"睡\", \"眠\")\n",
    "for word in lm.context_counts(lm.vocab.lookup(context)):\n",
    "    print(f\"{word}: {lm.score(word, context)}\")"
   ]
  },
  {
   "cell_type": "code",
   "execution_count": 9,
   "metadata": {},
   "outputs": [
    {
     "output_type": "execute_result",
     "data": {
      "text/plain": [
       "[('ア', 'ミ', 'ノ'), ('ミ', 'ノ', '酸'), ('ノ', '酸', 'と')]"
      ]
     },
     "metadata": {},
     "execution_count": 9
    }
   ],
   "source": [
    "text = \"アミノ酸と睡眠時間がある。\"\n",
    "list(ngrams(text, N))[:3]"
   ]
  },
  {
   "cell_type": "code",
   "execution_count": 13,
   "metadata": {},
   "outputs": [
    {
     "output_type": "execute_result",
     "data": {
      "text/plain": [
       "['ヒ', 'ア', '*', 'ロ', 'ン']"
      ]
     },
     "metadata": {},
     "execution_count": 13
    }
   ],
   "source": [
    "c = list(\"ヒア*ロン\")\n",
    "c"
   ]
  },
  {
   "cell_type": "code",
   "execution_count": 15,
   "metadata": {},
   "outputs": [
    {
     "output_type": "stream",
     "name": "stdout",
     "text": [
      "ヒアルロン: 0.5\n"
     ]
    }
   ],
   "source": [
    "# ヒアルロンを出したい。\n",
    "i = 2\n",
    "context = (c[i-2], c[i-1])\n",
    "for m_i in lm.context_counts(lm.vocab.lookup(context)):\n",
    "    context = (c[i-1], m_i)\n",
    "    p = lm.score(m_i, (c[i-2], c[i-1])) * lm.score(c[i+1], (c[i-1], m_i)) * lm.score(c[i+2], (m_i, c[i+1]))\n",
    "    s = \"\".join([c[i-2], c[i-1], m_i, c[i+1], c[i+2]])\n",
    "    print(f\"{s}: {p}\")"
   ]
  },
  {
   "cell_type": "code",
   "execution_count": null,
   "metadata": {},
   "outputs": [],
   "source": []
  }
 ]
}