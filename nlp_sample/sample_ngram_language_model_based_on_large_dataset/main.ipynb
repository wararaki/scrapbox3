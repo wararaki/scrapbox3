{
 "metadata": {
  "language_info": {
   "codemirror_mode": {
    "name": "ipython",
    "version": 3
   },
   "file_extension": ".py",
   "mimetype": "text/x-python",
   "name": "python",
   "nbconvert_exporter": "python",
   "pygments_lexer": "ipython3",
   "version": "3.8.5"
  },
  "orig_nbformat": 2,
  "kernelspec": {
   "name": "python385jvsc74a57bd0e47664dab37355857d58ec29513492f53a294cb5e9a32075fd110bf6e862dd2a",
   "display_name": "Python 3.8.5 64-bit"
  }
 },
 "nbformat": 4,
 "nbformat_minor": 2,
 "cells": [
  {
   "cell_type": "code",
   "execution_count": 10,
   "metadata": {},
   "outputs": [],
   "source": [
    "from glob import glob\n",
    "import itertools\n",
    "import os\n",
    "from typing import List, Tuple\n",
    "\n",
    "from nltk.lm import Vocabulary\n",
    "from nltk.lm.models import MLE\n",
    "from nltk.util import ngrams\n",
    "import spacy\n",
    "from tqdm import tqdm"
   ]
  },
  {
   "cell_type": "code",
   "execution_count": 15,
   "metadata": {},
   "outputs": [],
   "source": [
    "N = 3\n",
    "filedir = \"text/it-life-hack/*.txt\""
   ]
  },
  {
   "cell_type": "code",
   "execution_count": 12,
   "metadata": {},
   "outputs": [],
   "source": [
    "nlp = spacy.load(\"ja_ginza\")"
   ]
  },
  {
   "cell_type": "code",
   "execution_count": 13,
   "metadata": {},
   "outputs": [],
   "source": [
    "def load_sentences(filepath: str) -> List[str]:\n",
    "    sentences = []\n",
    "    with open(filepath, \"r\") as f:\n",
    "        for line in f.readlines()[2:]:\n",
    "            line = line.strip()\n",
    "            if len(line) == 0:\n",
    "                continue\n",
    "            doc = nlp(line)\n",
    "            s = []\n",
    "            for token in doc:\n",
    "                s.append(token.text)\n",
    "            sentences.append(s)\n",
    "    return sentences"
   ]
  },
  {
   "cell_type": "code",
   "execution_count": 16,
   "metadata": {},
   "outputs": [
    {
     "output_type": "stream",
     "name": "stderr",
     "text": [
      "100%|██████████| 871/871 [07:55<00:00,  1.83it/s]\n"
     ]
    }
   ],
   "source": [
    "sentences = []\n",
    "for filepath in tqdm(glob(filedir)):\n",
    "    if os.path.basename(filepath) == \"LICENSE.txt\":\n",
    "        continue\n",
    "    sentences.extend(load_sentences(filepath))"
   ]
  },
  {
   "cell_type": "code",
   "execution_count": 17,
   "metadata": {},
   "outputs": [
    {
     "output_type": "execute_result",
     "data": {
      "text/plain": [
       "21286"
      ]
     },
     "metadata": {},
     "execution_count": 17
    }
   ],
   "source": [
    "len(sentences)"
   ]
  },
  {
   "cell_type": "code",
   "execution_count": 18,
   "metadata": {},
   "outputs": [],
   "source": [
    "vocabulary = Vocabulary(itertools.chain.from_iterable(sentences))\n",
    "word_ngram = [ngrams(sentence, N) for sentence in sentences]"
   ]
  },
  {
   "cell_type": "code",
   "execution_count": 19,
   "metadata": {},
   "outputs": [
    {
     "output_type": "execute_result",
     "data": {
      "text/plain": [
       "[('Ultrabook', 'を', 'パワーアップ'), ('を', 'パワーアップ', '！'), ('パワーアップ', '！', '\\u3000')]"
      ]
     },
     "metadata": {},
     "execution_count": 19
    }
   ],
   "source": [
    "list(ngrams(sentences[0], N))[:3]"
   ]
  },
  {
   "cell_type": "code",
   "execution_count": 20,
   "metadata": {},
   "outputs": [],
   "source": [
    "lm = MLE(order=N, vocabulary=vocabulary)\n",
    "lm.fit(word_ngram)"
   ]
  },
  {
   "cell_type": "code",
   "execution_count": 33,
   "metadata": {},
   "outputs": [
    {
     "output_type": "execute_result",
     "data": {
      "text/plain": [
       "[('レビューアー', 0.08433734939759036),\n",
       " ('「', 0.07228915662650602),\n",
       " ('ほう', 0.04819277108433735),\n",
       " ('中', 0.04819277108433735),\n",
       " ('評価', 0.04819277108433735),\n",
       " ('普及', 0.04819277108433735),\n",
       " ('デファクトスタンダード', 0.04819277108433735),\n",
       " ('提供', 0.03614457831325301),\n",
       " ('純減', 0.03614457831325301),\n",
       " ('開始', 0.024096385542168676)]"
      ]
     },
     "metadata": {},
     "execution_count": 33
    }
   ],
   "source": [
    "context = (\"サービス\", \"の\")\n",
    "probabilities = dict()\n",
    "for word in lm.context_counts(lm.vocab.lookup(context)):\n",
    "    # print(f\"{word}: {lm.score(word, context)}\")\n",
    "    probabilities[word] = lm.score(word, context)\n",
    "sorted(probabilities.items(), key=lambda x: x[1])[::-1][:10]"
   ]
  },
  {
   "cell_type": "code",
   "execution_count": null,
   "metadata": {},
   "outputs": [],
   "source": []
  }
 ]
}