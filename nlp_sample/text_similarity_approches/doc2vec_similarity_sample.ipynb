{
 "metadata": {
  "language_info": {
   "codemirror_mode": {
    "name": "ipython",
    "version": 3
   },
   "file_extension": ".py",
   "mimetype": "text/x-python",
   "name": "python",
   "nbconvert_exporter": "python",
   "pygments_lexer": "ipython3",
   "version": "3.8.5"
  },
  "orig_nbformat": 2,
  "kernelspec": {
   "name": "python385jvsc74a57bd0e47664dab37355857d58ec29513492f53a294cb5e9a32075fd110bf6e862dd2a",
   "display_name": "Python 3.8.5 64-bit"
  }
 },
 "nbformat": 4,
 "nbformat_minor": 2,
 "cells": [
  {
   "cell_type": "code",
   "execution_count": 1,
   "metadata": {},
   "outputs": [],
   "source": [
    "from glob import glob\n",
    "from typing import List, Tuple\n",
    "\n",
    "from gensim.models.doc2vec import Doc2Vec"
   ]
  },
  {
   "cell_type": "code",
   "execution_count": 11,
   "metadata": {},
   "outputs": [],
   "source": [
    "pre_train_path = \"model/jawiki.doc2vec.dbow300d.model\""
   ]
  },
  {
   "cell_type": "code",
   "execution_count": 3,
   "metadata": {},
   "outputs": [],
   "source": [
    "def load_texts(paths: List[str]) -> List[str]:\n",
    "    texts = []\n",
    "    for p in paths:\n",
    "        with open(p, 'rt') as f:\n",
    "            text = f.read()\n",
    "            if text.find('\\n') != -1:\n",
    "                text = text[text.find('\\n'):]\n",
    "            if text.find('\\n') != -1:\n",
    "                text = text[text.find('\\n'):]\n",
    "            texts.append(text)\n",
    "    return texts"
   ]
  },
  {
   "cell_type": "code",
   "execution_count": 4,
   "metadata": {},
   "outputs": [],
   "source": [
    "it_paths = glob('text/it-life-hack/*.txt')\n",
    "it_texts = load_texts(it_paths)"
   ]
  },
  {
   "cell_type": "code",
   "execution_count": 5,
   "metadata": {},
   "outputs": [],
   "source": [
    "kaden_paths = glob('text/kaden-channel/*.txt')\n",
    "kaden_texts = load_texts(kaden_paths)"
   ]
  },
  {
   "cell_type": "code",
   "execution_count": 6,
   "metadata": {},
   "outputs": [],
   "source": [
    "dokujo_paths = glob('text/dokujo-tsushin/*.txt')\n",
    "dokujo_texts = load_texts(dokujo_paths)"
   ]
  },
  {
   "cell_type": "code",
   "execution_count": 7,
   "metadata": {},
   "outputs": [],
   "source": [
    "import numpy as np\n",
    "from sklearn.metrics.pairwise import cosine_similarity"
   ]
  },
  {
   "cell_type": "code",
   "execution_count": 8,
   "metadata": {},
   "outputs": [],
   "source": [
    "import spacy"
   ]
  },
  {
   "cell_type": "code",
   "execution_count": 17,
   "metadata": {},
   "outputs": [],
   "source": [
    "model = Doc2Vec.load(pre_train_path)\n",
    "nlp = spacy.load(\"ja_ginza\")"
   ]
  },
  {
   "cell_type": "code",
   "execution_count": 26,
   "metadata": {},
   "outputs": [],
   "source": [
    "def vectorize(text: str) -> np.ndarray:\n",
    "    tokens = [token.text for token in nlp(it_texts[0])]\n",
    "    doc_vectors = model.infer_vector(tokens)\n",
    "    return doc_vectors.reshape(1, -1)"
   ]
  },
  {
   "cell_type": "code",
   "execution_count": 29,
   "metadata": {},
   "outputs": [
    {
     "output_type": "execute_result",
     "data": {
      "text/plain": [
       "0.9866719"
      ]
     },
     "metadata": {},
     "execution_count": 29
    }
   ],
   "source": [
    "cosine_similarity(vectorize(it_texts[0]), vectorize(it_texts[1]))[0][0]"
   ]
  },
  {
   "cell_type": "code",
   "execution_count": 32,
   "metadata": {},
   "outputs": [
    {
     "output_type": "execute_result",
     "data": {
      "text/plain": [
       "0.986206"
      ]
     },
     "metadata": {},
     "execution_count": 32
    }
   ],
   "source": [
    "cosine_similarity(vectorize(it_texts[0]), vectorize(kaden_texts[0]))[0][0]"
   ]
  },
  {
   "cell_type": "code",
   "execution_count": 33,
   "metadata": {},
   "outputs": [
    {
     "output_type": "execute_result",
     "data": {
      "text/plain": [
       "0.9867822"
      ]
     },
     "metadata": {},
     "execution_count": 33
    }
   ],
   "source": [
    "cosine_similarity(vectorize(it_texts[0]), vectorize(dokujo_texts[0]))[0][0]"
   ]
  },
  {
   "cell_type": "code",
   "execution_count": null,
   "metadata": {},
   "outputs": [],
   "source": []
  }
 ]
}