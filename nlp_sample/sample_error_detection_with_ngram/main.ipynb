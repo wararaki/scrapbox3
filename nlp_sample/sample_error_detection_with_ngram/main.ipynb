{
 "metadata": {
  "language_info": {
   "codemirror_mode": {
    "name": "ipython",
    "version": 3
   },
   "file_extension": ".py",
   "mimetype": "text/x-python",
   "name": "python",
   "nbconvert_exporter": "python",
   "pygments_lexer": "ipython3",
   "version": "3.8.5"
  },
  "orig_nbformat": 2,
  "kernelspec": {
   "name": "python385jvsc74a57bd0e47664dab37355857d58ec29513492f53a294cb5e9a32075fd110bf6e862dd2a",
   "display_name": "Python 3.8.5 64-bit"
  }
 },
 "nbformat": 4,
 "nbformat_minor": 2,
 "cells": [
  {
   "cell_type": "code",
   "execution_count": 14,
   "metadata": {},
   "outputs": [],
   "source": [
    "import itertools\n",
    "\n",
    "from nltk.lm import Vocabulary\n",
    "from nltk.lm.models import MLE\n",
    "from nltk.util import ngrams"
   ]
  },
  {
   "cell_type": "code",
   "execution_count": 15,
   "metadata": {},
   "outputs": [],
   "source": [
    "N = 3\n",
    "filepath = \"text/peachy/peachy-4304732.txt\""
   ]
  },
  {
   "cell_type": "code",
   "execution_count": 8,
   "metadata": {},
   "outputs": [],
   "source": [
    "sentences = []\n",
    "with open(filepath, \"r\") as f:\n",
    "    for line in f.readlines()[2:]:\n",
    "        s = line.strip()\n",
    "        if len(s) == 0:\n",
    "            continue\n",
    "        sentences.append(s)"
   ]
  },
  {
   "cell_type": "code",
   "execution_count": 23,
   "metadata": {},
   "outputs": [
    {
     "output_type": "stream",
     "name": "stdout",
     "text": [
      "女性を潤す新たな注目ワードは“アミノ酸”\n8月も残すところ10日余り。秋のはじまりと共に気になってくるのがお肌の乾燥ケアだ。潤いとハリのある肌の為にヒアルロン酸とコラーゲンに着目した「ベキュア スキンパーフェクトスフィア」シリーズに、「アミノ酸」に着目したニューアイテムが登場した。\n皮膚成分のほとんどはアミノ酸によって占められており、素肌は良質なアミノ酸を常に求めている。今回新シリーズは、アルギニン、保湿作用のあるグルタミン酸、角質を形成するセリン、ハリ感をサポートするプロリンをカプセルに内包し、肌に速攻アプローチ。\n特に、ベキュア初となるバームタイプのメイク落としは、毛穴の奥の汚れまですっきり落としつつ、マッサージもできるという1品2役の楽ちんコスメ。マッサージだけだと続けるのは難しいが、毎日行うクレンジングと共に肌に溜まった汚れの排出を促し、すっきりとした輪郭とワントーン明るい肌を手に入れることができる。\nまた、十分な睡眠時間がとれず、肌本来の再生能力が不足している現代女性の為に睡眠中の肌潤い生理に注目したナイトクリームも登場。眠っている間に潤いとハリ感を与え、朝目覚めた時には艶めく素肌が手に入る。\n今年の秋の乾燥ケアにはアミノ酸。忙しい日々で失いがちな潤いを、手軽に補充し、艶肌を手に入れよう。アミノアクトクレンジングバーム、アミノアクトクレンジングフォーム、アミノエフェクティブスリープは8月20日より販売開始。\n・ベキュア オンラインショップ\n"
     ]
    }
   ],
   "source": [
    "print(\"\\n\".join(sentences))"
   ]
  },
  {
   "cell_type": "code",
   "execution_count": 16,
   "metadata": {},
   "outputs": [],
   "source": [
    "vocabulary = Vocabulary(itertools.chain.from_iterable(sentences))\n",
    "char_ngram = [ngrams(sentence, N) for sentence in sentences]"
   ]
  },
  {
   "cell_type": "code",
   "execution_count": 19,
   "metadata": {},
   "outputs": [
    {
     "output_type": "execute_result",
     "data": {
      "text/plain": [
       "[('女', '性', 'を'), ('性', 'を', '潤'), ('を', '潤', 'す')]"
      ]
     },
     "metadata": {},
     "execution_count": 19
    }
   ],
   "source": [
    "list(ngrams(sentences[0], N))[:3]"
   ]
  },
  {
   "cell_type": "code",
   "execution_count": 21,
   "metadata": {},
   "outputs": [],
   "source": [
    "lm = MLE(order=N, vocabulary=vocabulary)\n",
    "lm.fit(char_ngram)"
   ]
  },
  {
   "cell_type": "code",
   "execution_count": 30,
   "metadata": {},
   "outputs": [],
   "source": [
    "context = (\"睡\", \"睡\")\n",
    "for word in lm.context_counts(lm.vocab.lookup(context)):\n",
    "    print(f\"{word}: {lm.score(word, context)}\")"
   ]
  },
  {
   "cell_type": "code",
   "execution_count": 39,
   "metadata": {},
   "outputs": [
    {
     "output_type": "execute_result",
     "data": {
      "text/plain": [
       "[('ア', 'ミ', 'ノ'), ('ミ', 'ノ', '酸'), ('ノ', '酸', 'と')]"
      ]
     },
     "metadata": {},
     "execution_count": 39
    }
   ],
   "source": [
    "text = \"アミノ酸と睡眠時間がある。\"\n",
    "list(ngrams(text, N))[:3]"
   ]
  },
  {
   "cell_type": "code",
   "execution_count": 40,
   "metadata": {},
   "outputs": [],
   "source": [
    "test_contexts = list(ngrams(text, N))"
   ]
  },
  {
   "cell_type": "code",
   "execution_count": 47,
   "metadata": {},
   "outputs": [
    {
     "output_type": "stream",
     "name": "stdout",
     "text": [
      "('ア', 'ミ', 'ノ'): 1.0\n('ミ', 'ノ', '酸'): 0.625\n('ノ', '酸', 'と'): 0.0\n('酸', 'と', '睡'): 0.0\n('と', '睡', '眠'): 0\n('睡', '眠', '時'): 0.5\n('眠', '時', '間'): 1.0\n('時', '間', 'が'): 1.0\n('間', 'が', 'あ'): 0.0\n('が', 'あ', 'る'): 0\n('あ', 'る', '。'): 0.0\n"
     ]
    }
   ],
   "source": [
    "scores = [0 for _ in range(len(text))]\n",
    "i = 0\n",
    "tp = 0\n",
    "for context in test_contexts:\n",
    "    p = lm.score(context[-1], context[:-1])\n",
    "    print(f\"{context}: {p}\")\n",
    "    if p <= tp:\n",
    "        for j in range(N):\n",
    "            scores[i+j] -= 1\n",
    "    i+=1"
   ]
  },
  {
   "cell_type": "code",
   "execution_count": 49,
   "metadata": {},
   "outputs": [
    {
     "output_type": "stream",
     "name": "stdout",
     "text": [
      "ア: 0  # ok\nミ: 0  # ok\nノ: -1  # ok\n酸: -2  # error!\nと: -3  # error!\n睡: -2  # error!\n眠: -1  # ok\n時: 0  # ok\n間: -1  # ok\nが: -2  # error!\nあ: -3  # error!\nる: -2  # error!\n。: -1  # ok\n"
     ]
    }
   ],
   "source": [
    "ts = -2\n",
    "for c, score in zip(list(text), scores):\n",
    "    if score <= ts:\n",
    "        print(f\"{c}: {score}  # error!\")\n",
    "    else:\n",
    "        print(f\"{c}: {score}  # ok\")"
   ]
  },
  {
   "cell_type": "code",
   "execution_count": null,
   "metadata": {},
   "outputs": [],
   "source": []
  }
 ]
}