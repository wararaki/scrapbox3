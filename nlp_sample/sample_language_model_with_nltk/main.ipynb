{
 "metadata": {
  "language_info": {
   "codemirror_mode": {
    "name": "ipython",
    "version": 3
   },
   "file_extension": ".py",
   "mimetype": "text/x-python",
   "name": "python",
   "nbconvert_exporter": "python",
   "pygments_lexer": "ipython3",
   "version": "3.8.5"
  },
  "orig_nbformat": 2,
  "kernelspec": {
   "name": "python385jvsc74a57bd0e47664dab37355857d58ec29513492f53a294cb5e9a32075fd110bf6e862dd2a",
   "display_name": "Python 3.8.5 64-bit"
  }
 },
 "nbformat": 4,
 "nbformat_minor": 2,
 "cells": [
  {
   "cell_type": "code",
   "execution_count": 8,
   "metadata": {},
   "outputs": [],
   "source": [
    "import itertools\n",
    "\n",
    "from nltk.lm import Vocabulary\n",
    "from nltk.lm.models import MLE\n",
    "from nltk.util import ngrams"
   ]
  },
  {
   "cell_type": "code",
   "execution_count": 12,
   "metadata": {},
   "outputs": [],
   "source": [
    "N = 3\n",
    "train_filename = \"wiki-en-train.word\""
   ]
  },
  {
   "cell_type": "code",
   "execution_count": 7,
   "metadata": {},
   "outputs": [],
   "source": [
    "sentences = []\n",
    "with open(train_filename, \"rt\") as f:\n",
    "    for line in f:\n",
    "        words = [\"__BOS__\"] + line.lower().split() + [\"__EOS__\"]\n",
    "        sentences.append(words)"
   ]
  },
  {
   "cell_type": "code",
   "execution_count": 13,
   "metadata": {},
   "outputs": [],
   "source": [
    "vocabulary = Vocabulary(itertools.chain.from_iterable(sentences))\n",
    "text_ngram = [ngrams(sentence, N) for sentence in sentences]"
   ]
  },
  {
   "cell_type": "code",
   "execution_count": 14,
   "metadata": {},
   "outputs": [],
   "source": [
    "lm = MLE(order=N, vocabulary=vocabulary)\n",
    "lm.fit(text_ngram)"
   ]
  },
  {
   "cell_type": "code",
   "execution_count": 16,
   "metadata": {},
   "outputs": [
    {
     "output_type": "stream",
     "name": "stdout",
     "text": [
      "processing: 0.4057971014492754\nunderstanding: 0.17391304347826086\ngeneration: 0.07246376811594203\ninput: 0.057971014492753624\nparsing: 0.028985507246376812\noutput: 0.014492753623188406\nsystem: 0.014492753623188406\nexpression: 0.014492753623188406\nsearch: 0.014492753623188406\nworkshop: 0.014492753623188406\nto: 0.014492753623188406\nfor: 0.014492753623188406\nby: 0.014492753623188406\nfrom: 0.014492753623188406\nrepresentation: 0.014492753623188406\ninterface: 0.014492753623188406\nor: 0.014492753623188406\nsentences: 0.014492753623188406\ndata: 0.014492753623188406\ncan: 0.014492753623188406\n.: 0.014492753623188406\ndocuments: 0.014492753623188406\nquestion-answering: 0.014492753623188406\n"
     ]
    }
   ],
   "source": [
    "context = (\"natural\", \"language\")\n",
    "for word in lm.context_counts(lm.vocab.lookup(context)):\n",
    "    print(f\"{word}: {lm.score(word, context)}\")"
   ]
  },
  {
   "cell_type": "code",
   "execution_count": null,
   "metadata": {},
   "outputs": [],
   "source": []
  }
 ]
}