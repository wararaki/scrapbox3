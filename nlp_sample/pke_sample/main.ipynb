{
 "metadata": {
  "language_info": {
   "codemirror_mode": {
    "name": "ipython",
    "version": 3
   },
   "file_extension": ".py",
   "mimetype": "text/x-python",
   "name": "python",
   "nbconvert_exporter": "python",
   "pygments_lexer": "ipython3",
   "version": "3.8.5-final"
  },
  "orig_nbformat": 2,
  "kernelspec": {
   "name": "python3",
   "display_name": "Python 3"
  }
 },
 "nbformat": 4,
 "nbformat_minor": 2,
 "cells": [
  {
   "cell_type": "code",
   "execution_count": 12,
   "metadata": {},
   "outputs": [],
   "source": [
    "import nltk\n",
    "import spacy\n",
    "stopwords = list(spacy.lang.ja.STOP_WORDS)"
   ]
  },
  {
   "cell_type": "code",
   "execution_count": 13,
   "metadata": {},
   "outputs": [
    {
     "output_type": "execute_result",
     "data": {
      "text/plain": [
       "['ま', 'よ', 'き', 'さん', 'ない', 'ほど', 'え', 'に', 'ある', 'いう']"
      ]
     },
     "metadata": {},
     "execution_count": 13
    }
   ],
   "source": [
    "stopwords[:10]"
   ]
  },
  {
   "cell_type": "code",
   "execution_count": 17,
   "metadata": {},
   "outputs": [],
   "source": [
    "nltk.corpus.stopwords.words_org = nltk.corpus.stopwords.words\n",
    "nltk.corpus.stopwords.words = lambda lang: stopwords if lang == 'japanese' else nltk.corpus.stopwords.words_org(lang)"
   ]
  },
  {
   "cell_type": "code",
   "execution_count": 18,
   "metadata": {},
   "outputs": [],
   "source": [
    "text = '本作は同じゲームエンジンを使用して、3つの異なるゲームモードとして提供している。「世界を救え」モードは、最大4人のプレイヤーがゾンビのようなモンスターを撃退し、オブジェクトを防御する協力型CO-OPモード (PvE)。「バトルロイヤル」モードは基本プレイ無料でプレイできるバトルロイヤルゲームであり、最大100人のプレイヤーが最後まで生き残るために他のプレイヤーと対戦する。「クリエイティブ」モードでは、プレイヤーが独自の世界を作成することができる。'"
   ]
  },
  {
   "cell_type": "code",
   "execution_count": 19,
   "metadata": {},
   "outputs": [],
   "source": [
    "extractor = pke.unsupervised.MultipartiteRank()"
   ]
  },
  {
   "cell_type": "code",
   "execution_count": 22,
   "metadata": {},
   "outputs": [],
   "source": [
    "extractor.load_document(input=text, language='ja_ginza', normalization=None)"
   ]
  },
  {
   "cell_type": "code",
   "execution_count": 23,
   "metadata": {},
   "outputs": [],
   "source": [
    "extractor.candidate_selection(pos={'NOUN', 'PROPN', 'ADJ', 'NUM'})"
   ]
  },
  {
   "cell_type": "code",
   "execution_count": 24,
   "metadata": {},
   "outputs": [],
   "source": [
    "extractor.candidate_weighting(threshold=0.74, method='average', alpha=1.1)"
   ]
  },
  {
   "cell_type": "code",
   "execution_count": 25,
   "metadata": {},
   "outputs": [
    {
     "output_type": "execute_result",
     "data": {
      "text/plain": [
       "[('ゲーム モード', 0.16153688938880537),\n",
       " ('プレイヤー', 0.1420846013296449),\n",
       " ('モード', 0.1226975299338886),\n",
       " ('バトルロイヤル', 0.10154782432120601),\n",
       " ('基本 プレイ 無料', 0.07138847880499098),\n",
       " ('ゾンビ', 0.07070696058685876),\n",
       " ('モンスター', 0.06266294796772218),\n",
       " ('pve', 0.058592619236347815),\n",
       " ('オブジェクト', 0.05615005865455332),\n",
       " ('ゲーム エンジン', 0.054764778832536554)]"
      ]
     },
     "metadata": {},
     "execution_count": 25
    }
   ],
   "source": [
    "extractor.get_n_best(n=10)"
   ]
  },
  {
   "source": [
    "- 文章からその主題を良く表現している句を抽出する技術\n",
    "- キーワードのこと"
   ],
   "cell_type": "markdown",
   "metadata": {}
  },
  {
   "cell_type": "code",
   "execution_count": null,
   "metadata": {},
   "outputs": [],
   "source": []
  }
 ]
}