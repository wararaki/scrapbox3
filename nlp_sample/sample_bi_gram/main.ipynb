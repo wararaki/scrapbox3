{
 "metadata": {
  "language_info": {
   "codemirror_mode": {
    "name": "ipython",
    "version": 3
   },
   "file_extension": ".py",
   "mimetype": "text/x-python",
   "name": "python",
   "nbconvert_exporter": "python",
   "pygments_lexer": "ipython3",
   "version": "3.8.5"
  },
  "orig_nbformat": 2,
  "kernelspec": {
   "name": "python385jvsc74a57bd0e47664dab37355857d58ec29513492f53a294cb5e9a32075fd110bf6e862dd2a",
   "display_name": "Python 3.8.5 64-bit"
  }
 },
 "nbformat": 4,
 "nbformat_minor": 2,
 "cells": [
  {
   "cell_type": "code",
   "execution_count": 23,
   "metadata": {},
   "outputs": [],
   "source": [
    "from collections import defaultdict\n",
    "import math"
   ]
  },
  {
   "source": [
    "training"
   ],
   "cell_type": "markdown",
   "metadata": {}
  },
  {
   "cell_type": "code",
   "execution_count": 37,
   "metadata": {},
   "outputs": [],
   "source": [
    "train_filename = \"wiki-en-train.word\""
   ]
  },
  {
   "cell_type": "code",
   "execution_count": 38,
   "metadata": {},
   "outputs": [],
   "source": [
    "counts = defaultdict(int)\n",
    "context_counts = defaultdict(int)"
   ]
  },
  {
   "cell_type": "code",
   "execution_count": 39,
   "metadata": {},
   "outputs": [],
   "source": [
    "with open(train_filename, \"rt\") as f:\n",
    "    for line in f:\n",
    "        words = [\"<s>\"] + line.lower().split() + [\"</s>\"]\n",
    "        for i in range(1, len(words)):\n",
    "            counts[f\"{words[i-1]} {words[i]}\"] += 1\n",
    "            context_counts[words[i-1]] += 1\n",
    "            counts[words[i]] += 1\n",
    "            context_counts[\"\"] += 1"
   ]
  },
  {
   "cell_type": "code",
   "execution_count": 40,
   "metadata": {},
   "outputs": [],
   "source": [
    "probabilities = dict()"
   ]
  },
  {
   "cell_type": "code",
   "execution_count": 41,
   "metadata": {},
   "outputs": [],
   "source": [
    "for n_gram, cnt in counts.items():\n",
    "    words = n_gram.split()[:-1]\n",
    "    context = \" \".join(words)\n",
    "    probability = counts[n_gram]/context_counts[context]\n",
    "    probabilities[n_gram] = probability"
   ]
  },
  {
   "cell_type": "code",
   "execution_count": 42,
   "metadata": {},
   "outputs": [
    {
     "output_type": "execute_result",
     "data": {
      "text/plain": [
       "25634"
      ]
     },
     "metadata": {},
     "execution_count": 42
    }
   ],
   "source": [
    "len(probabilities)"
   ]
  },
  {
   "cell_type": "code",
   "execution_count": 43,
   "metadata": {},
   "outputs": [
    {
     "output_type": "execute_result",
     "data": {
      "text/plain": [
       "'paragraph boundaries'"
      ]
     },
     "metadata": {},
     "execution_count": 43
    }
   ],
   "source": [
    "n_gram"
   ]
  },
  {
   "cell_type": "code",
   "execution_count": 44,
   "metadata": {},
   "outputs": [
    {
     "output_type": "execute_result",
     "data": {
      "text/plain": [
       "0.25"
      ]
     },
     "metadata": {},
     "execution_count": 44
    }
   ],
   "source": [
    "probabilities['paragraph boundaries']"
   ]
  },
  {
   "source": [
    "test"
   ],
   "cell_type": "markdown",
   "metadata": {}
  },
  {
   "cell_type": "code",
   "execution_count": 48,
   "metadata": {},
   "outputs": [],
   "source": [
    "test_filename = \"wiki-en-train.word\""
   ]
  },
  {
   "cell_type": "code",
   "execution_count": 49,
   "metadata": {},
   "outputs": [],
   "source": [
    "lambda_1 = 0.05\n",
    "lambda_2 = 0.05\n",
    "V = 1000000\n",
    "W = 0\n",
    "H = 0"
   ]
  },
  {
   "cell_type": "code",
   "execution_count": 50,
   "metadata": {},
   "outputs": [
    {
     "output_type": "stream",
     "name": "stdout",
     "text": [
      "entropy=8.386428636422798\n"
     ]
    }
   ],
   "source": [
    "with open(test_filename, \"rt\") as f:\n",
    "    for line in f:\n",
    "        words = [\"<s>\"] + line.lower().split() + [\"</s>\"]\n",
    "        for i in range(1, len(words)):\n",
    "            p1 = lambda_1 * probabilities[words[i]] + (1-lambda_1) / V\n",
    "            p2 = lambda_2 * probabilities[f\"{words[i-1]} {words[i]}\"] + (1-lambda_2) * p1\n",
    "            H -= math.log2(p2)\n",
    "            W += 1\n",
    "print(f\"entropy={H/W}\")"
   ]
  },
  {
   "cell_type": "code",
   "execution_count": null,
   "metadata": {},
   "outputs": [],
   "source": []
  }
 ]
}