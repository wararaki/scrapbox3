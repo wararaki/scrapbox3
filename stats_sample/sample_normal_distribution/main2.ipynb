{
 "metadata": {
  "language_info": {
   "codemirror_mode": {
    "name": "ipython",
    "version": 3
   },
   "file_extension": ".py",
   "mimetype": "text/x-python",
   "name": "python",
   "nbconvert_exporter": "python",
   "pygments_lexer": "ipython3",
   "version": "3.8.5"
  },
  "orig_nbformat": 2,
  "kernelspec": {
   "name": "python385jvsc74a57bd0e47664dab37355857d58ec29513492f53a294cb5e9a32075fd110bf6e862dd2a",
   "display_name": "Python 3.8.5 64-bit"
  }
 },
 "nbformat": 4,
 "nbformat_minor": 2,
 "cells": [
  {
   "cell_type": "code",
   "execution_count": 74,
   "metadata": {},
   "outputs": [],
   "source": [
    "import numpy as np\n",
    "import matplotlib.pyplot as plt\n",
    "from scipy.stats import multivariate_normal"
   ]
  },
  {
   "cell_type": "code",
   "execution_count": 98,
   "metadata": {},
   "outputs": [],
   "source": [
    "d = 2\n",
    "mu = np.array([2, 1])\n",
    "Sigma = np.array([[0.7068966, 0.5172414], [0.5172414, 1.7931034]])"
   ]
  },
  {
   "cell_type": "code",
   "execution_count": 124,
   "metadata": {},
   "outputs": [],
   "source": [
    "def normal(x: np.ndarray, mu: np.ndarray, Sigma: np.ndarray, d: int) -> np.ndarray:\n",
    "    a = 1/np.sqrt(np.power(2*np.pi, d)*np.linalg.det(Sigma))\n",
    "    b = (x-mu).T * np.linalg.inv(Sigma) * (x-mu)\n",
    "    return a * np.exp(-b/2)"
   ]
  },
  {
   "cell_type": "code",
   "execution_count": 125,
   "metadata": {},
   "outputs": [
    {
     "output_type": "execute_result",
     "data": {
      "text/plain": [
       "(10000, 2)"
      ]
     },
     "metadata": {},
     "execution_count": 125
    }
   ],
   "source": [
    "x_1 = np.linspace(-1, 1, num=10000).reshape(-1, 1)\n",
    "x_2 = np.linspace(-1, 1, num=10000).reshape(-1, 1)\n",
    "x = np.hstack([x_1, x_2])\n",
    "x.shape"
   ]
  },
  {
   "cell_type": "code",
   "execution_count": 145,
   "metadata": {},
   "outputs": [
    {
     "output_type": "stream",
     "name": "stdout",
     "text": [
      "(2, 1)\n(2, 2)\n"
     ]
    },
    {
     "output_type": "execute_result",
     "data": {
      "text/plain": [
       "(2, 1)"
      ]
     },
     "metadata": {},
     "execution_count": 145
    }
   ],
   "source": [
    "print((x[0]-mu).T.reshape(-1, 1).shape)\n",
    "print(Sigma.shape)\n",
    "(x[0]-mu).reshape(-1, 1).shape"
   ]
  },
  {
   "cell_type": "code",
   "execution_count": 126,
   "metadata": {},
   "outputs": [
    {
     "output_type": "execute_result",
     "data": {
      "text/plain": [
       "array([[4.98325521e-05, 4.47806386e-01],\n",
       "       [1.63184152e+00, 3.87094997e-02]])"
      ]
     },
     "metadata": {},
     "execution_count": 126
    }
   ],
   "source": [
    "y = normal(x[0], mu, Sigma, d)\n",
    "y"
   ]
  },
  {
   "cell_type": "code",
   "execution_count": null,
   "metadata": {},
   "outputs": [],
   "source": []
  },
  {
   "cell_type": "code",
   "execution_count": null,
   "metadata": {},
   "outputs": [],
   "source": []
  }
 ]
}