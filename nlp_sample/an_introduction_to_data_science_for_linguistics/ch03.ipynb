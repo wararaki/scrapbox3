{
 "metadata": {
  "language_info": {
   "codemirror_mode": {
    "name": "ipython",
    "version": 3
   },
   "file_extension": ".py",
   "mimetype": "text/x-python",
   "name": "python",
   "nbconvert_exporter": "python",
   "pygments_lexer": "ipython3",
   "version": "3.8.5"
  },
  "orig_nbformat": 2,
  "kernelspec": {
   "name": "python385jvsc74a57bd0e47664dab37355857d58ec29513492f53a294cb5e9a32075fd110bf6e862dd2a",
   "display_name": "Python 3.8.5 64-bit"
  }
 },
 "nbformat": 4,
 "nbformat_minor": 2,
 "cells": [
  {
   "cell_type": "code",
   "execution_count": 34,
   "metadata": {},
   "outputs": [],
   "source": [
    "import math\n",
    "from typing import List\n",
    "\n",
    "import spacy"
   ]
  },
  {
   "cell_type": "code",
   "execution_count": 2,
   "metadata": {},
   "outputs": [],
   "source": [
    "nlp = spacy.load(\"ja_ginza\")"
   ]
  },
  {
   "cell_type": "code",
   "execution_count": 3,
   "metadata": {},
   "outputs": [],
   "source": [
    "text1 = \"私が学生で、彼は社会人だ。\"\n",
    "text2 = \"私は学生で、彼も学生だ。\""
   ]
  },
  {
   "cell_type": "code",
   "execution_count": 19,
   "metadata": {},
   "outputs": [
    {
     "output_type": "stream",
     "name": "stdout",
     "text": [
      "10\n10\n"
     ]
    }
   ],
   "source": [
    "# 総語数\n",
    "def get_total(text: str) -> int:\n",
    "    return len([token.text for token in nlp(text)])\n",
    "print(get_total(text1))\n",
    "print(get_total(text2))"
   ]
  },
  {
   "cell_type": "code",
   "execution_count": 21,
   "metadata": {},
   "outputs": [
    {
     "output_type": "stream",
     "name": "stdout",
     "text": [
      "10\n9\n"
     ]
    }
   ],
   "source": [
    "# 異語数\n",
    "def get_diff(text: str) -> int:\n",
    "    return len({token.text for token in nlp(text)})\n",
    "print(get_diff(text1))\n",
    "print(get_diff(text2))"
   ]
  },
  {
   "cell_type": "code",
   "execution_count": 22,
   "metadata": {},
   "outputs": [
    {
     "output_type": "stream",
     "name": "stdout",
     "text": [
      "1.0\n0.9\n"
     ]
    }
   ],
   "source": [
    "# 異語率\n",
    "def get_diff_rate(text: str) -> float:\n",
    "    return get_diff(text) / get_total(text)\n",
    "print(get_diff_rate(text1))\n",
    "print(get_diff_rate(text2))"
   ]
  },
  {
   "cell_type": "code",
   "execution_count": 27,
   "metadata": {},
   "outputs": [
    {
     "output_type": "stream",
     "name": "stdout",
     "text": [
      "3.162277660168379\n2.846049894151541\n"
     ]
    }
   ],
   "source": [
    "# Guiraud指数\n",
    "def get_guiraud(text: str) -> float:\n",
    "    return get_diff(text) / math.sqrt(get_total(text))\n",
    "print(get_guiraud(text1))\n",
    "print(get_guiraud(text2))"
   ]
  },
  {
   "cell_type": "code",
   "execution_count": 30,
   "metadata": {},
   "outputs": [
    {
     "output_type": "stream",
     "name": "stdout",
     "text": [
      "1\n2\n"
     ]
    }
   ],
   "source": [
    "# 単純頻度\n",
    "def get_simple_freq(text: str, word: str) -> int:\n",
    "    return [token.text for token in nlp(text)].count(word)\n",
    "print(get_simple_freq(text1, \"学生\"))\n",
    "print(get_simple_freq(text2, \"学生\"))"
   ]
  },
  {
   "cell_type": "code",
   "execution_count": 31,
   "metadata": {},
   "outputs": [
    {
     "output_type": "stream",
     "name": "stdout",
     "text": [
      "0.1\n0.2\n"
     ]
    }
   ],
   "source": [
    "# 相対頻度\n",
    "def get_relative_freq(text: str, word: str) -> int:\n",
    "    return get_simple_freq(text, word) / get_total(text)\n",
    "print(get_relative_freq(text1, \"学生\"))\n",
    "print(get_relative_freq(text2, \"学生\"))"
   ]
  },
  {
   "cell_type": "code",
   "execution_count": 39,
   "metadata": {},
   "outputs": [],
   "source": [
    "text3 = \"To Sherlock Holmes she is always the woman.\"\n",
    "text4 = \"I have seldom heard him mention her under any other name.\"\n",
    "text5 = \"In his eyes she eclipses and predominates the whole of her sex.\""
   ]
  },
  {
   "cell_type": "code",
   "execution_count": 45,
   "metadata": {},
   "outputs": [
    {
     "output_type": "stream",
     "name": "stdout",
     "text": [
      "10.333333333333334\n"
     ]
    }
   ],
   "source": [
    "# 平均文長\n",
    "def get_mean_sentence_length(texts: List[str]) -> float:\n",
    "    total = 0\n",
    "    for text in texts:\n",
    "        total += len(text.replace(\".\", \"\").split())\n",
    "    return total / len(texts)\n",
    "\n",
    "print(get_mean_sentence_length([text3, text4, text5]))"
   ]
  },
  {
   "cell_type": "code",
   "execution_count": 43,
   "metadata": {},
   "outputs": [
    {
     "output_type": "stream",
     "name": "stdout",
     "text": [
      "4.375\n"
     ]
    }
   ],
   "source": [
    "# 平均単語長\n",
    "def get_mean_word_length(text: str) -> float:\n",
    "    tokens = text.replace(\".\", \"\").split()\n",
    "    total = 0\n",
    "    for token in tokens:\n",
    "        total += len(token)\n",
    "    return total / len(tokens)\n",
    "\n",
    "print(get_mean_word_length(text3))"
   ]
  },
  {
   "cell_type": "code",
   "execution_count": 84,
   "metadata": {},
   "outputs": [],
   "source": [
    "week1 = [79, 100, 94, 51, 49, 44, 31]\n",
    "week2 = [58, 42, 40, 27, 28, 49, 39]\n",
    "week3 = [49, 30, 33, 42, 27, 17, 15]\n",
    "week4 = [16, 20, 30, 20, 14, 11, 10]"
   ]
  },
  {
   "cell_type": "code",
   "execution_count": 77,
   "metadata": {},
   "outputs": [
    {
     "output_type": "stream",
     "name": "stdout",
     "text": [
      "1.5\n3.0\n4.5\n"
     ]
    }
   ],
   "source": [
    "internal_equinox1 = (3 * 1 + 1 * len(week1)) / (1 + 3) - 1\n",
    "internal_equinox2 = (2 * 1 + 2 * len(week1)) / (2 + 2) - 1\n",
    "internal_equinox3 = (1 * 1 + 3 * len(week1)) / (3 + 1) - 1\n",
    "print(internal_equinox1)\n",
    "print(internal_equinox2)\n",
    "print(internal_equinox3)"
   ]
  },
  {
   "cell_type": "code",
   "execution_count": 78,
   "metadata": {},
   "outputs": [
    {
     "output_type": "stream",
     "name": "stdout",
     "text": [
      "[31, 44, 49, 51, 79, 94, 100]\n"
     ]
    }
   ],
   "source": [
    "sorted_week1 = sorted(week1)\n",
    "print(sorted_week1)"
   ]
  },
  {
   "cell_type": "code",
   "execution_count": 79,
   "metadata": {},
   "outputs": [
    {
     "output_type": "execute_result",
     "data": {
      "text/plain": [
       "46.5"
      ]
     },
     "metadata": {},
     "execution_count": 79
    }
   ],
   "source": [
    "quantile1 = sorted_week1[math.floor(internal_equinox1)] + (sorted_week1[math.ceil(internal_equinox1)] - sorted_week1[math.floor(internal_equinox1)])*0.5\n",
    "print(quantile1)"
   ]
  },
  {
   "cell_type": "code",
   "execution_count": 82,
   "metadata": {},
   "outputs": [
    {
     "output_type": "stream",
     "name": "stdout",
     "text": [
      "86.5\n"
     ]
    }
   ],
   "source": [
    "quantile3 = sorted_week1[math.floor(internal_equinox3)] + (sorted_week1[math.ceil(internal_equinox3)] - sorted_week1[math.floor(internal_equinox3)])*0.5\n",
    "print(quantile3)"
   ]
  },
  {
   "cell_type": "code",
   "execution_count": 83,
   "metadata": {},
   "outputs": [
    {
     "output_type": "stream",
     "name": "stdout",
     "text": [
      "40.0\n20.0\n"
     ]
    }
   ],
   "source": [
    "quantile_range = quantile3 - quantile1\n",
    "quantile_variance = quantile_range / 2.0\n",
    "print(quantile_range)\n",
    "print(quantile_variance)"
   ]
  },
  {
   "cell_type": "code",
   "execution_count": null,
   "metadata": {},
   "outputs": [],
   "source": []
  }
 ]
}