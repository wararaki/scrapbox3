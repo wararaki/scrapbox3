{
 "metadata": {
  "language_info": {
   "codemirror_mode": {
    "name": "ipython",
    "version": 3
   },
   "file_extension": ".py",
   "mimetype": "text/x-python",
   "name": "python",
   "nbconvert_exporter": "python",
   "pygments_lexer": "ipython3",
   "version": "3.8.5-final"
  },
  "orig_nbformat": 2,
  "kernelspec": {
   "name": "python3",
   "display_name": "Python 3"
  }
 },
 "nbformat": 4,
 "nbformat_minor": 2,
 "cells": [
  {
   "cell_type": "code",
   "execution_count": 1,
   "metadata": {},
   "outputs": [],
   "source": [
    "from glob import glob"
   ]
  },
  {
   "cell_type": "code",
   "execution_count": 2,
   "metadata": {},
   "outputs": [],
   "source": [
    "def load_text(file_path: str) -> str:\n",
    "    with open(file_path, 'rt') as f:\n",
    "        text = f.readlines()\n",
    "    return text"
   ]
  },
  {
   "cell_type": "code",
   "execution_count": 3,
   "metadata": {},
   "outputs": [],
   "source": [
    "texts = list(map(load_text, sorted(glob('texts/*.txt'))))"
   ]
  },
  {
   "cell_type": "code",
   "execution_count": 4,
   "metadata": {},
   "outputs": [
    {
     "output_type": "stream",
     "name": "stdout",
     "text": [
      "['シーズン2の開始で遡及的に最初のシーズンと考えられている', '中世がテーマのシーズン', 'バトルパスが初めて導入された', '宇宙がテーマ', '日本での配信が開始された']\n143 lines\n"
     ]
    }
   ],
   "source": [
    "sentences = []\n",
    "for lines in texts:\n",
    "    for line in lines:\n",
    "        for sentence in line.strip().split('。'):\n",
    "            if len(sentence) == 0:\n",
    "                continue\n",
    "            sentences.append(sentence)\n",
    "print(sentences[:5])\n",
    "print(f'{len(sentences)} lines')"
   ]
  },
  {
   "cell_type": "code",
   "execution_count": 5,
   "metadata": {},
   "outputs": [],
   "source": [
    "import spacy\n",
    "nlp = spacy.load('ja_ginza')"
   ]
  },
  {
   "cell_type": "code",
   "execution_count": 8,
   "metadata": {},
   "outputs": [
    {
     "output_type": "execute_result",
     "data": {
      "text/plain": [
       "396"
      ]
     },
     "metadata": {},
     "execution_count": 8
    }
   ],
   "source": [
    "from collections import defaultdict\n",
    "pairs = defaultdict(int)\n",
    "span = 5\n",
    "docs = map(nlp, sentences)\n",
    "for doc in docs:\n",
    "    tokens = list(filter(lambda token: token.pos_ == 'NOUN', doc))\n",
    "    for i in range(len(tokens)-1):\n",
    "        if tokens[i+1].idx - tokens[i].idx > span:\n",
    "            continue\n",
    "        pair = f'{tokens[i].text}_{tokens[i+1].text}'\n",
    "        pairs[pair] += 1\n",
    "len(pairs)"
   ]
  },
  {
   "cell_type": "code",
   "execution_count": 9,
   "metadata": {},
   "outputs": [
    {
     "output_type": "stream",
     "name": "stdout",
     "text": [
      "年_月 11\n月_日 18\n期間_限定 4\n限定_武器 2\n今回_シーズン 7\nライブ_イベント 2\n次_シーズン 2\nワンタイム_イベント 16\nルート_レイク 13\n島_各地 4\n汚染_エリア 2\nハロウィン_イベント 2\nフォート_ナイトメア 2\nプレイヤー_達 3\n異_空間 2\nシーズン_終盤 4\nX_ストーム 2\nフォート_ナイト 2\nポーラー_ピーク 3\n島_全体 2\n謎_装置 2\nレイク_装置 6\nピーク_北 2\n北_氷山 2\n保険会社_ノースウェット 2\nメガ_モール 2\n本_シーズン 2\n新_要素 2\n最終_決戦 2\n謎_球体 2\nシーズン_X 4\n裂け目_ゾーン 4\n日_半 2\n前_シーズン 2\nスパイ_アジト 2\nボス_NPC 2\n開始_月 2\nシーズン_最後 2\n最後_ワンタイム 2\nミシック_武器 2\n島_中央 2\n通常_マッチ 2\n"
     ]
    }
   ],
   "source": [
    "for key, value in pairs.items():\n",
    "    if value == 1:\n",
    "        continue\n",
    "    print(key, value)"
   ]
  },
  {
   "cell_type": "code",
   "execution_count": null,
   "metadata": {},
   "outputs": [],
   "source": []
  }
 ]
}